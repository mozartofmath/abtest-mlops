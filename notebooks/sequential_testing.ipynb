{
 "cells": [
  {
   "cell_type": "markdown",
   "metadata": {
    "id": "46ALLDHYx_Yl"
   },
   "source": [
    "## Sequential testing\n",
    "A common issue with classical A/B-tests, especially when you want to be able to detect small differences, is that the sample size needed can be prohibitively large. In many cases it can take several weeks, months or even years to collect enough data to conclude a test. \n",
    "\n",
    "*   The lower number of errors we require, the larger sample size we need.\n",
    "* The smaller the difference we want to detect, the larger sample size is required.\n",
    "\n",
    "Sequential sampling works in a very non-traditional way; instead of a fixed sample size, you choose one item (or a few) at a time, and then test your hypothesis. You can either:\n",
    "\n",
    "* Reject the null hypothesis (H0) in favor of the alternate hypothesis (H1) and stop,\n",
    "* Keep the null hypothesis and stop,\n",
    "* unable to reach either conclusion with current observation and continue sampling.\n",
    "\n",
    "### Advantage of Sequential testing over classic a/b testing\n",
    "\n",
    "\n",
    "*   optimize necessary observation (sample size)\n",
    "*   reduce the likelihood of error\n",
    "* gives a chance to finish experiments earlier without increasing the possibility of false results\n",
    "\n",
    "**N.B: Unlike classical fixed sample-size tests, where significance is only checked after all samples have been collected, this test will continously check for significance at every new sample and stop the test as soon as a significant result is detected, while still guaranteeing the same type-1 and type-2 errors as the fixed-samplesize test.**\n",
    "\n",
    "## Common sequential testing algorithms\n",
    "- [Evan Miller Simple Sequential A/B Testing](https://www.evanmiller.org/sequential-ab-testing.html)\n",
    "- [Sequential probability ratio testing (SPRT)](https://en.wikipedia.org/wiki/Sequential_probability_ratio_test)\n",
    "\n",
    "The Evan Miller sequential procedure for one-sided test works as follows:\n",
    "* choose a sample size \\(N\\). [Here](https://www.evanmiller.org/ab-testing/sequential.html) is the link to define N\n",
    "* Assign subjects randomly to the treatment and control, with 50% probability each.\n",
    "* Track the number of incoming successes from the treatment group. Call this number \\(T\\).\n",
    "* Track the number of incoming successes from the control group. Call this number \\(C\\).\n",
    "* If \\(T-C\\) reaches \\(2\\sqrt{N}\\), stop the test. Declare the treatment to be the winner.\n",
    "* If \\(T+C\\) reaches \\(N\\), stop the test. Declare no winner.\n",
    "\n",
    "The two-sided test is essentially the same, but with an alternate ending:\n",
    "* If \\(T-C\\) reaches \\(2.25\\sqrt{N}\\), stop the test. Declare the treatment to be the winner.\n",
    "* If \\(C-T\\) reaches \\(2.25\\sqrt{N}\\), stop the test. Declare the control to be the winner.\n",
    "* If \\(T+C\\) reaches \\(N\\), stop the test. Declare no winner.\n",
    "\n",
    "**N.B: This test completely ignores the number of failures in each group, which makes it significantly easier to implement in low-conversion settings. However**\n",
    "- **If we hit the threshold without having reached statistical proof, we cannot continue the experiment.**\n",
    "- **Even if preliminary evidence says that one version is terrible, we will keep losing conversions until we hit an arbitrarly pre-agreed threshold.**\n",
    "\n",
    "### Sequential probability ratio testing (SPRT)\n",
    "SPRT is based on the likelihood ratio statistic.\n",
    "#### Variants of SPRT\n",
    "- [Wald's(1947) sequential probability ratio test](http://en.wikipedia.org/wiki/Sequential_probability_ratio_test)\n",
    " * Wald's test uses one pair of observations at each stage and ignores tied observations and thus reduces a test of a single proportion.\n",
    "- [Conditional sequential probability ratio test](http://www.jstor.org/stable/2346379?seq=1#page_scan_tab_contents)\n",
    " * used to calculate tied observations b/n two proportions. So, determining statistical significance with two distributional streams of data can be used for conditional sprt.\n",
    "- [Sequential Generalized Likelihood Ratio Test](https://www.auduno.com/2014/12/25/rapid-a-b-testing-with-sequential-analysis/)\n",
    "  * used to measure tied observation. Has stoping rule estimation problem.\n",
    "\n",
    "We focus on conditional SPRT for this challenge.\n",
    "\n",
    "General steps of conditional SPRT\n",
    "\n",
    "1. Set statistical parameters (alpha, beta, odd ratio)\n",
    "2. Calculate critical upper and lower decision boundaries a & b\n",
    "\n",
    "![image.png](data:image/png;base64,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)    and     ![image.png](data:image/png;base64,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)\n",
    "3. Then for each trail(observation) compute\n",
    " * calculate test statistics(likelihood ratio) as S\n",
    " * calculate upper and lower limits for exposed group\n",
    " * apply stopping rule\n",
    "\n",
    "\n",
    "#### Stopping Rule\n",
    "\n",
    "1. If the log probability ratio greater than or equal to the upper critical limit then the model reject the null hypothesis with the favor of alternative hypothesis (i.e. accept H1 (conclude that version two is better than version one)) and terminate the test.\n",
    "  \n",
    "      ![image.png](data:image/png;base64,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)\n",
    " \n",
    "2. If the log probability ratio less than or equal to the lower critical limit then accept the null hypothesis (i.e. conclude that there is no difference between the two groups) and terminate the test.\n",
    "\n",
    "      ![image.png](data:image/png;base64,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)\n",
    "3. If neither critical limit is reached, conduct another trial and continue the test.\n",
    "\n",
    "    ![image.png](data:image/png;base64,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)\n",
    "\n",
    "One-sided SPRT\n",
    "\n",
    "![image.png](data:image/png;base64,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)\n",
    "\n",
    "Two-sided SPRT\n",
    "\n",
    "![image.png](data:image/png;base64,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)\n",
    "\n",
    "Next we will write python implementation for conditional SPRT\n"
   ]
  },
  {
   "cell_type": "markdown",
   "metadata": {
    "id": "iftqV_euXReL"
   },
   "source": [
    "### Write a function to feach data."
   ]
  },
  {
   "cell_type": "code",
   "execution_count": 2,
   "metadata": {
    "id": "A-uNOBuFbRdv"
   },
   "outputs": [],
   "source": [
    "# from pydrive.auth import GoogleAuth\n",
    "# from pydrive.drive import GoogleDrive\n",
    "# from google.colab import auth\n",
    "# from oauth2client.client import GoogleCredentials"
   ]
  },
  {
   "cell_type": "code",
   "execution_count": 3,
   "metadata": {
    "id": "z3saJEgAbThr"
   },
   "outputs": [],
   "source": [
    "# auth.authenticate_user()\n",
    "# gauth = GoogleAuth()\n",
    "# gauth.credentials = GoogleCredentials.get_application_default()\n",
    "# drive = GoogleDrive(gauth)"
   ]
  },
  {
   "cell_type": "code",
   "execution_count": 166,
   "metadata": {
    "id": "HdBaAyNybYwW"
   },
   "outputs": [],
   "source": [
    "import pandas as pd\n",
    "import numpy as np\n",
    "import seaborn as sns\n",
    "import matplotlib.pyplot as plt\n",
    "import scipy"
   ]
  },
  {
   "cell_type": "markdown",
   "metadata": {},
   "source": [
    "### load data"
   ]
  },
  {
   "cell_type": "code",
   "execution_count": 5,
   "metadata": {
    "colab": {
     "base_uri": "https://localhost:8080/",
     "height": 204
    },
    "id": "-FE3ou80b97z",
    "outputId": "ad3022ad-99b7-487d-98f4-61649d51ebbd",
    "scrolled": true
   },
   "outputs": [
    {
     "data": {
      "text/html": [
       "<div>\n",
       "<style scoped>\n",
       "    .dataframe tbody tr th:only-of-type {\n",
       "        vertical-align: middle;\n",
       "    }\n",
       "\n",
       "    .dataframe tbody tr th {\n",
       "        vertical-align: top;\n",
       "    }\n",
       "\n",
       "    .dataframe thead th {\n",
       "        text-align: right;\n",
       "    }\n",
       "</style>\n",
       "<table border=\"1\" class=\"dataframe\">\n",
       "  <thead>\n",
       "    <tr style=\"text-align: right;\">\n",
       "      <th></th>\n",
       "      <th>auction_id</th>\n",
       "      <th>experiment</th>\n",
       "      <th>date</th>\n",
       "      <th>hour</th>\n",
       "      <th>device_make</th>\n",
       "      <th>platform_os</th>\n",
       "      <th>browser</th>\n",
       "      <th>yes</th>\n",
       "      <th>no</th>\n",
       "    </tr>\n",
       "  </thead>\n",
       "  <tbody>\n",
       "    <tr>\n",
       "      <th>2744</th>\n",
       "      <td>589dbe6d-4d47-4841-a20f-c707326ccf3d</td>\n",
       "      <td>exposed</td>\n",
       "      <td>2020-07-06</td>\n",
       "      <td>10</td>\n",
       "      <td>Generic Smartphone</td>\n",
       "      <td>6</td>\n",
       "      <td>Chrome Mobile</td>\n",
       "      <td>1</td>\n",
       "      <td>0</td>\n",
       "    </tr>\n",
       "    <tr>\n",
       "      <th>474</th>\n",
       "      <td>0e1423f8-87a9-4b3e-bde3-b66a7228df4c</td>\n",
       "      <td>control</td>\n",
       "      <td>2020-07-03</td>\n",
       "      <td>15</td>\n",
       "      <td>Generic Smartphone</td>\n",
       "      <td>6</td>\n",
       "      <td>Chrome Mobile</td>\n",
       "      <td>0</td>\n",
       "      <td>0</td>\n",
       "    </tr>\n",
       "    <tr>\n",
       "      <th>4336</th>\n",
       "      <td>8a9831ce-cb3c-4f77-b471-3019f3a1f779</td>\n",
       "      <td>control</td>\n",
       "      <td>2020-07-09</td>\n",
       "      <td>23</td>\n",
       "      <td>Samsung SM-N960F</td>\n",
       "      <td>6</td>\n",
       "      <td>Chrome Mobile WebView</td>\n",
       "      <td>0</td>\n",
       "      <td>0</td>\n",
       "    </tr>\n",
       "    <tr>\n",
       "      <th>2732</th>\n",
       "      <td>582427c7-1aa4-4ecc-95c6-d6fdb3980a4c</td>\n",
       "      <td>exposed</td>\n",
       "      <td>2020-07-07</td>\n",
       "      <td>0</td>\n",
       "      <td>Moto $2</td>\n",
       "      <td>6</td>\n",
       "      <td>Chrome Mobile WebView</td>\n",
       "      <td>0</td>\n",
       "      <td>1</td>\n",
       "    </tr>\n",
       "    <tr>\n",
       "      <th>4904</th>\n",
       "      <td>9bfcdc27-dd75-4d4c-8422-bbe50a292525</td>\n",
       "      <td>control</td>\n",
       "      <td>2020-07-03</td>\n",
       "      <td>15</td>\n",
       "      <td>Samsung SM-J530F</td>\n",
       "      <td>6</td>\n",
       "      <td>Chrome Mobile WebView</td>\n",
       "      <td>0</td>\n",
       "      <td>0</td>\n",
       "    </tr>\n",
       "    <tr>\n",
       "      <th>6651</th>\n",
       "      <td>d2e6597d-0a21-49ec-bde7-5ad7b7c294b1</td>\n",
       "      <td>control</td>\n",
       "      <td>2020-07-03</td>\n",
       "      <td>15</td>\n",
       "      <td>Generic Smartphone</td>\n",
       "      <td>6</td>\n",
       "      <td>Chrome Mobile</td>\n",
       "      <td>0</td>\n",
       "      <td>1</td>\n",
       "    </tr>\n",
       "    <tr>\n",
       "      <th>6086</th>\n",
       "      <td>c14d796d-998c-459b-a4a1-01666870eb5f</td>\n",
       "      <td>control</td>\n",
       "      <td>2020-07-03</td>\n",
       "      <td>15</td>\n",
       "      <td>Generic Smartphone</td>\n",
       "      <td>6</td>\n",
       "      <td>Chrome Mobile</td>\n",
       "      <td>0</td>\n",
       "      <td>0</td>\n",
       "    </tr>\n",
       "    <tr>\n",
       "      <th>4924</th>\n",
       "      <td>9c6aaf93-22d4-4e04-9492-c783a2b65ffb</td>\n",
       "      <td>control</td>\n",
       "      <td>2020-07-04</td>\n",
       "      <td>5</td>\n",
       "      <td>Samsung SM-A320FL</td>\n",
       "      <td>6</td>\n",
       "      <td>Samsung Internet</td>\n",
       "      <td>0</td>\n",
       "      <td>0</td>\n",
       "    </tr>\n",
       "    <tr>\n",
       "      <th>3796</th>\n",
       "      <td>7a5d4370-6c7b-4d20-a274-b29c0c9f001d</td>\n",
       "      <td>control</td>\n",
       "      <td>2020-07-09</td>\n",
       "      <td>22</td>\n",
       "      <td>Generic Smartphone</td>\n",
       "      <td>6</td>\n",
       "      <td>Chrome Mobile WebView</td>\n",
       "      <td>1</td>\n",
       "      <td>0</td>\n",
       "    </tr>\n",
       "    <tr>\n",
       "      <th>1990</th>\n",
       "      <td>4170b5fa-c561-4ef2-9242-a92c8e4c6342</td>\n",
       "      <td>control</td>\n",
       "      <td>2020-07-04</td>\n",
       "      <td>20</td>\n",
       "      <td>Samsung SM-G970F</td>\n",
       "      <td>6</td>\n",
       "      <td>Facebook</td>\n",
       "      <td>1</td>\n",
       "      <td>0</td>\n",
       "    </tr>\n",
       "  </tbody>\n",
       "</table>\n",
       "</div>"
      ],
      "text/plain": [
       "                                auction_id experiment        date  hour  \\\n",
       "2744  589dbe6d-4d47-4841-a20f-c707326ccf3d    exposed  2020-07-06    10   \n",
       "474   0e1423f8-87a9-4b3e-bde3-b66a7228df4c    control  2020-07-03    15   \n",
       "4336  8a9831ce-cb3c-4f77-b471-3019f3a1f779    control  2020-07-09    23   \n",
       "2732  582427c7-1aa4-4ecc-95c6-d6fdb3980a4c    exposed  2020-07-07     0   \n",
       "4904  9bfcdc27-dd75-4d4c-8422-bbe50a292525    control  2020-07-03    15   \n",
       "6651  d2e6597d-0a21-49ec-bde7-5ad7b7c294b1    control  2020-07-03    15   \n",
       "6086  c14d796d-998c-459b-a4a1-01666870eb5f    control  2020-07-03    15   \n",
       "4924  9c6aaf93-22d4-4e04-9492-c783a2b65ffb    control  2020-07-04     5   \n",
       "3796  7a5d4370-6c7b-4d20-a274-b29c0c9f001d    control  2020-07-09    22   \n",
       "1990  4170b5fa-c561-4ef2-9242-a92c8e4c6342    control  2020-07-04    20   \n",
       "\n",
       "             device_make  platform_os                browser  yes  no  \n",
       "2744  Generic Smartphone            6          Chrome Mobile    1   0  \n",
       "474   Generic Smartphone            6          Chrome Mobile    0   0  \n",
       "4336    Samsung SM-N960F            6  Chrome Mobile WebView    0   0  \n",
       "2732             Moto $2            6  Chrome Mobile WebView    0   1  \n",
       "4904    Samsung SM-J530F            6  Chrome Mobile WebView    0   0  \n",
       "6651  Generic Smartphone            6          Chrome Mobile    0   1  \n",
       "6086  Generic Smartphone            6          Chrome Mobile    0   0  \n",
       "4924   Samsung SM-A320FL            6       Samsung Internet    0   0  \n",
       "3796  Generic Smartphone            6  Chrome Mobile WebView    1   0  \n",
       "1990    Samsung SM-G970F            6               Facebook    1   0  "
      ]
     },
     "execution_count": 5,
     "metadata": {},
     "output_type": "execute_result"
    }
   ],
   "source": [
    "data=pd.read_csv('../data/AdSmartABdata.csv')\n",
    "data.sample(10)"
   ]
  },
  {
   "cell_type": "markdown",
   "metadata": {},
   "source": [
    "### visualizations"
   ]
  },
  {
   "cell_type": "code",
   "execution_count": 6,
   "metadata": {},
   "outputs": [],
   "source": [
    "def plot_hist(df:pd.DataFrame, column:str, color:str)->None:\n",
    "    # plt.figure(figsize=(15, 10))\n",
    "    # fig, ax = plt.subplots(1, figsize=(12, 7))\n",
    "    sns.displot(data=df, x=column, color=color, kde=True, height=7, aspect=2)\n",
    "    plt.title(f'Distribution of {column}', size=20, fontweight='bold')\n",
    "    plt.show()\n",
    "\n",
    "def plot_bar(df:pd.DataFrame, x_col:str, y_col:str, title:str, xlabel:str, ylabel:str)->None:\n",
    "    plt.figure(figsize=(12, 7))\n",
    "    sns.barplot(data = df, x=x_col, y=y_col)\n",
    "    plt.title(title, size=20)\n",
    "    plt.xticks(rotation=75, fontsize=14)\n",
    "    plt.yticks( fontsize=14)\n",
    "    plt.xlabel(xlabel, fontsize=16)\n",
    "    plt.ylabel(ylabel, fontsize=16)\n",
    "    plt.show()"
   ]
  },
  {
   "cell_type": "markdown",
   "metadata": {},
   "source": [
    "### plot of the split between control and exposed groups"
   ]
  },
  {
   "cell_type": "code",
   "execution_count": 7,
   "metadata": {},
   "outputs": [
    {
     "data": {
      "image/png": "[encoded data removed]",
      "text/plain": [
       "<Figure size 864x504 with 1 Axes>"
      ]
     },
     "metadata": {
      "needs_background": "light"
     },
     "output_type": "display_data"
    }
   ],
   "source": [
    "experiments = data[[\"experiment\"]].groupby('experiment').agg({'experiment':'count'}).rename(columns = {'experiment' : 'count'}).reset_index()\n",
    "experiments = experiments.sort_values(by=\"count\", ascending=False)\n",
    "plot_bar(experiments, 'experiment', 'count', 'Experiments', 'Experiment Type', 'Number of experiments')"
   ]
  },
  {
   "cell_type": "markdown",
   "metadata": {},
   "source": [
    "### Most popular devices "
   ]
  },
  {
   "cell_type": "code",
   "execution_count": 8,
   "metadata": {},
   "outputs": [
    {
     "data": {
      "image/png": "[encoded data removed]",
      "text/plain": [
       "<Figure size 864x504 with 1 Axes>"
      ]
     },
     "metadata": {
      "needs_background": "light"
     },
     "output_type": "display_data"
    }
   ],
   "source": [
    "devices = data[[\"device_make\"]].groupby('device_make').agg({'device_make':'count'}).rename(columns = {'device_make' : 'count'}).sort_values(by=\"count\", ascending=False).head(20).reset_index()\n",
    "devices.head()\n",
    "plot_bar(devices, 'device_make', 'count', 'Most Popular devices', 'devices', 'Number of users')\n"
   ]
  },
  {
   "cell_type": "markdown",
   "metadata": {},
   "source": [
    "### Most popular operating systems"
   ]
  },
  {
   "cell_type": "code",
   "execution_count": 9,
   "metadata": {},
   "outputs": [
    {
     "data": {
      "image/png": "[encoded data removed]",
      "text/plain": [
       "<Figure size 864x504 with 1 Axes>"
      ]
     },
     "metadata": {
      "needs_background": "light"
     },
     "output_type": "display_data"
    }
   ],
   "source": [
    "oss = data[[\"platform_os\"]].groupby('platform_os').agg({'platform_os':'count'}).rename(columns = {'platform_os' : 'count'}).reset_index()\n",
    "oss.head()\n",
    "plot_bar(oss, 'platform_os', 'count', 'Most Popular platform_os', 'platform_os', 'Number of users')\n"
   ]
  },
  {
   "cell_type": "code",
   "execution_count": 10,
   "metadata": {},
   "outputs": [
    {
     "data": {
      "image/png": "[encoded data removed]",
      "text/plain": [
       "<Figure size 864x504 with 1 Axes>"
      ]
     },
     "metadata": {
      "needs_background": "light"
     },
     "output_type": "display_data"
    }
   ],
   "source": [
    "#plot_hist(data[[\"browser\"]].sort_values(by=\"browser\", ascending=False).head(1000), \"browser\", \"blue\")\n",
    "browsers = data[[\"browser\"]].groupby('browser').agg({'browser':'count'}).rename(columns = {'browser' : 'count'}).reset_index()\n",
    "browsers = browsers.sort_values(by=\"count\", ascending=False).head(20)\n",
    "plot_bar(browsers, 'browser', 'count', 'Most Popular Browsers', 'Browser Type', 'Number of users')\n"
   ]
  },
  {
   "cell_type": "code",
   "execution_count": 11,
   "metadata": {},
   "outputs": [
    {
     "data": {
      "text/html": [
       "<div>\n",
       "<style scoped>\n",
       "    .dataframe tbody tr th:only-of-type {\n",
       "        vertical-align: middle;\n",
       "    }\n",
       "\n",
       "    .dataframe tbody tr th {\n",
       "        vertical-align: top;\n",
       "    }\n",
       "\n",
       "    .dataframe thead th {\n",
       "        text-align: right;\n",
       "    }\n",
       "</style>\n",
       "<table border=\"1\" class=\"dataframe\">\n",
       "  <thead>\n",
       "    <tr style=\"text-align: right;\">\n",
       "      <th></th>\n",
       "      <th>hour</th>\n",
       "      <th>platform_os</th>\n",
       "      <th>yes</th>\n",
       "      <th>no</th>\n",
       "      <th>clicked</th>\n",
       "    </tr>\n",
       "  </thead>\n",
       "  <tbody>\n",
       "    <tr>\n",
       "      <th>count</th>\n",
       "      <td>8077.000000</td>\n",
       "      <td>8077.000000</td>\n",
       "      <td>8077.000000</td>\n",
       "      <td>8077.000000</td>\n",
       "      <td>8077.000000</td>\n",
       "    </tr>\n",
       "    <tr>\n",
       "      <th>mean</th>\n",
       "      <td>11.615080</td>\n",
       "      <td>5.947134</td>\n",
       "      <td>0.070818</td>\n",
       "      <td>0.083075</td>\n",
       "      <td>0.153894</td>\n",
       "    </tr>\n",
       "    <tr>\n",
       "      <th>std</th>\n",
       "      <td>5.734879</td>\n",
       "      <td>0.224333</td>\n",
       "      <td>0.256537</td>\n",
       "      <td>0.276013</td>\n",
       "      <td>0.360869</td>\n",
       "    </tr>\n",
       "    <tr>\n",
       "      <th>min</th>\n",
       "      <td>0.000000</td>\n",
       "      <td>5.000000</td>\n",
       "      <td>0.000000</td>\n",
       "      <td>0.000000</td>\n",
       "      <td>0.000000</td>\n",
       "    </tr>\n",
       "    <tr>\n",
       "      <th>25%</th>\n",
       "      <td>7.000000</td>\n",
       "      <td>6.000000</td>\n",
       "      <td>0.000000</td>\n",
       "      <td>0.000000</td>\n",
       "      <td>0.000000</td>\n",
       "    </tr>\n",
       "    <tr>\n",
       "      <th>50%</th>\n",
       "      <td>13.000000</td>\n",
       "      <td>6.000000</td>\n",
       "      <td>0.000000</td>\n",
       "      <td>0.000000</td>\n",
       "      <td>0.000000</td>\n",
       "    </tr>\n",
       "    <tr>\n",
       "      <th>75%</th>\n",
       "      <td>15.000000</td>\n",
       "      <td>6.000000</td>\n",
       "      <td>0.000000</td>\n",
       "      <td>0.000000</td>\n",
       "      <td>0.000000</td>\n",
       "    </tr>\n",
       "    <tr>\n",
       "      <th>max</th>\n",
       "      <td>23.000000</td>\n",
       "      <td>7.000000</td>\n",
       "      <td>1.000000</td>\n",
       "      <td>1.000000</td>\n",
       "      <td>1.000000</td>\n",
       "    </tr>\n",
       "  </tbody>\n",
       "</table>\n",
       "</div>"
      ],
      "text/plain": [
       "              hour  platform_os          yes           no      clicked\n",
       "count  8077.000000  8077.000000  8077.000000  8077.000000  8077.000000\n",
       "mean     11.615080     5.947134     0.070818     0.083075     0.153894\n",
       "std       5.734879     0.224333     0.256537     0.276013     0.360869\n",
       "min       0.000000     5.000000     0.000000     0.000000     0.000000\n",
       "25%       7.000000     6.000000     0.000000     0.000000     0.000000\n",
       "50%      13.000000     6.000000     0.000000     0.000000     0.000000\n",
       "75%      15.000000     6.000000     0.000000     0.000000     0.000000\n",
       "max      23.000000     7.000000     1.000000     1.000000     1.000000"
      ]
     },
     "execution_count": 11,
     "metadata": {},
     "output_type": "execute_result"
    }
   ],
   "source": [
    "data['clicked'] = data['yes'] + data['no']\n",
    "data.describe()"
   ]
  },
  {
   "cell_type": "code",
   "execution_count": 12,
   "metadata": {
    "scrolled": true
   },
   "outputs": [
    {
     "data": {
      "image/png": "[encoded data removed]",
      "text/plain": [
       "<Figure size 864x504 with 1 Axes>"
      ]
     },
     "metadata": {
      "needs_background": "light"
     },
     "output_type": "display_data"
    }
   ],
   "source": [
    "clicks = data[[\"clicked\"]].groupby('clicked').agg({'clicked':'count'}).rename(columns = {'clicked' : 'count'}).reset_index()\n",
    "clicks = clicks.sort_values(by=\"count\", ascending=False)\n",
    "plot_bar(clicks, 'clicked', 'count', 'Ad Clicks', 'Clicked or Not', 'Number of ads')"
   ]
  },
  {
   "cell_type": "code",
   "execution_count": 13,
   "metadata": {},
   "outputs": [
    {
     "data": {
      "image/png": "[encoded data removed]",
      "text/plain": [
       "<Figure size 864x504 with 1 Axes>"
      ]
     },
     "metadata": {
      "needs_background": "light"
     },
     "output_type": "display_data"
    }
   ],
   "source": [
    "experiments = data[data['clicked'] == 1][[\"experiment\"]].groupby('experiment').agg({'experiment':'count'}).rename(columns = {'experiment' : 'count'}).reset_index()\n",
    "experiments = experiments.sort_values(by=\"count\", ascending=False)\n",
    "plot_bar(experiments, 'experiment', 'count', 'number of interactions per experiment type', 'Experiment Type', 'Number of experiments')"
   ]
  },
  {
   "cell_type": "code",
   "execution_count": 12,
   "metadata": {},
   "outputs": [
    {
     "data": {
      "text/html": [
       "<div>\n",
       "<style scoped>\n",
       "    .dataframe tbody tr th:only-of-type {\n",
       "        vertical-align: middle;\n",
       "    }\n",
       "\n",
       "    .dataframe tbody tr th {\n",
       "        vertical-align: top;\n",
       "    }\n",
       "\n",
       "    .dataframe thead th {\n",
       "        text-align: right;\n",
       "    }\n",
       "</style>\n",
       "<table border=\"1\" class=\"dataframe\">\n",
       "  <thead>\n",
       "    <tr style=\"text-align: right;\">\n",
       "      <th></th>\n",
       "      <th>clicked</th>\n",
       "      <th>count</th>\n",
       "    </tr>\n",
       "  </thead>\n",
       "  <tbody>\n",
       "    <tr>\n",
       "      <th>0</th>\n",
       "      <td>0.000000</td>\n",
       "      <td>0.846106</td>\n",
       "    </tr>\n",
       "    <tr>\n",
       "      <th>1</th>\n",
       "      <td>0.000124</td>\n",
       "      <td>0.153894</td>\n",
       "    </tr>\n",
       "  </tbody>\n",
       "</table>\n",
       "</div>"
      ],
      "text/plain": [
       "    clicked     count\n",
       "0  0.000000  0.846106\n",
       "1  0.000124  0.153894"
      ]
     },
     "execution_count": 12,
     "metadata": {},
     "output_type": "execute_result"
    }
   ],
   "source": [
    "clicks/8077"
   ]
  },
  {
   "cell_type": "code",
   "execution_count": 13,
   "metadata": {
    "scrolled": true
   },
   "outputs": [
    {
     "data": {
      "text/html": [
       "<div>\n",
       "<style scoped>\n",
       "    .dataframe tbody tr th:only-of-type {\n",
       "        vertical-align: middle;\n",
       "    }\n",
       "\n",
       "    .dataframe tbody tr th {\n",
       "        vertical-align: top;\n",
       "    }\n",
       "\n",
       "    .dataframe thead th {\n",
       "        text-align: right;\n",
       "    }\n",
       "</style>\n",
       "<table border=\"1\" class=\"dataframe\">\n",
       "  <thead>\n",
       "    <tr style=\"text-align: right;\">\n",
       "      <th></th>\n",
       "      <th>auction_id</th>\n",
       "      <th>experiment</th>\n",
       "      <th>date</th>\n",
       "      <th>hour</th>\n",
       "      <th>device_make</th>\n",
       "      <th>platform_os</th>\n",
       "      <th>browser</th>\n",
       "      <th>yes</th>\n",
       "      <th>no</th>\n",
       "      <th>clicked</th>\n",
       "    </tr>\n",
       "  </thead>\n",
       "  <tbody>\n",
       "    <tr>\n",
       "      <th>2</th>\n",
       "      <td>0016d14a-ae18-4a02-a204-6ba53b52f2ed</td>\n",
       "      <td>exposed</td>\n",
       "      <td>2020-07-05</td>\n",
       "      <td>2</td>\n",
       "      <td>E5823</td>\n",
       "      <td>6</td>\n",
       "      <td>Chrome Mobile WebView</td>\n",
       "      <td>0</td>\n",
       "      <td>1</td>\n",
       "      <td>1</td>\n",
       "    </tr>\n",
       "    <tr>\n",
       "      <th>16</th>\n",
       "      <td>008aafdf-deef-4482-8fec-d98e3da054da</td>\n",
       "      <td>exposed</td>\n",
       "      <td>2020-07-04</td>\n",
       "      <td>16</td>\n",
       "      <td>Generic Smartphone</td>\n",
       "      <td>6</td>\n",
       "      <td>Chrome Mobile</td>\n",
       "      <td>1</td>\n",
       "      <td>0</td>\n",
       "      <td>1</td>\n",
       "    </tr>\n",
       "    <tr>\n",
       "      <th>20</th>\n",
       "      <td>00a1384a-5118-4d1b-925b-6cdada50318d</td>\n",
       "      <td>exposed</td>\n",
       "      <td>2020-07-06</td>\n",
       "      <td>8</td>\n",
       "      <td>Generic Smartphone</td>\n",
       "      <td>6</td>\n",
       "      <td>Chrome Mobile</td>\n",
       "      <td>0</td>\n",
       "      <td>1</td>\n",
       "      <td>1</td>\n",
       "    </tr>\n",
       "    <tr>\n",
       "      <th>23</th>\n",
       "      <td>00b6fadb-10bd-49e3-a778-290da82f7a8d</td>\n",
       "      <td>control</td>\n",
       "      <td>2020-07-08</td>\n",
       "      <td>4</td>\n",
       "      <td>Samsung SM-A202F</td>\n",
       "      <td>6</td>\n",
       "      <td>Facebook</td>\n",
       "      <td>1</td>\n",
       "      <td>0</td>\n",
       "      <td>1</td>\n",
       "    </tr>\n",
       "    <tr>\n",
       "      <th>27</th>\n",
       "      <td>00ebf4a8-060f-4b99-93ac-c62724399483</td>\n",
       "      <td>control</td>\n",
       "      <td>2020-07-03</td>\n",
       "      <td>15</td>\n",
       "      <td>Generic Smartphone</td>\n",
       "      <td>6</td>\n",
       "      <td>Chrome Mobile</td>\n",
       "      <td>0</td>\n",
       "      <td>1</td>\n",
       "      <td>1</td>\n",
       "    </tr>\n",
       "  </tbody>\n",
       "</table>\n",
       "</div>"
      ],
      "text/plain": [
       "                              auction_id experiment        date  hour  \\\n",
       "2   0016d14a-ae18-4a02-a204-6ba53b52f2ed    exposed  2020-07-05     2   \n",
       "16  008aafdf-deef-4482-8fec-d98e3da054da    exposed  2020-07-04    16   \n",
       "20  00a1384a-5118-4d1b-925b-6cdada50318d    exposed  2020-07-06     8   \n",
       "23  00b6fadb-10bd-49e3-a778-290da82f7a8d    control  2020-07-08     4   \n",
       "27  00ebf4a8-060f-4b99-93ac-c62724399483    control  2020-07-03    15   \n",
       "\n",
       "           device_make  platform_os                browser  yes  no  clicked  \n",
       "2                E5823            6  Chrome Mobile WebView    0   1        1  \n",
       "16  Generic Smartphone            6          Chrome Mobile    1   0        1  \n",
       "20  Generic Smartphone            6          Chrome Mobile    0   1        1  \n",
       "23    Samsung SM-A202F            6               Facebook    1   0        1  \n",
       "27  Generic Smartphone            6          Chrome Mobile    0   1        1  "
      ]
     },
     "execution_count": 13,
     "metadata": {},
     "output_type": "execute_result"
    }
   ],
   "source": [
    "clicked_ads = data[data['clicked'] == 1]\n",
    "clicked_ads.head()"
   ]
  },
  {
   "cell_type": "code",
   "execution_count": 14,
   "metadata": {
    "scrolled": true
   },
   "outputs": [
    {
     "data": {
      "image/png": "[encoded data removed]",
      "text/plain": [
       "<Figure size 864x504 with 1 Axes>"
      ]
     },
     "metadata": {
      "needs_background": "light"
     },
     "output_type": "display_data"
    }
   ],
   "source": [
    "clicked = clicked_ads[[\"yes\"]].groupby('yes').agg({'yes':'count'}).rename(columns = {'yes' : 'count'}).reset_index()\n",
    "clicked = clicked.sort_values(by=\"count\", ascending=False)\n",
    "plot_bar(clicked, 'yes', 'count', 'Click results', 'Clicked yes or no', 'Number of clicks')"
   ]
  },
  {
   "cell_type": "markdown",
   "metadata": {},
   "source": [
    "# Classical z test"
   ]
  },
  {
   "cell_type": "markdown",
   "metadata": {},
   "source": [
    "## split data"
   ]
  },
  {
   "cell_type": "code",
   "execution_count": 19,
   "metadata": {},
   "outputs": [
    {
     "name": "stderr",
     "output_type": "stream",
     "text": [
      "C:\\Users\\HP\\Anaconda3\\lib\\site-packages\\ipykernel_launcher.py:1: UserWarning: Boolean Series key will be reindexed to match DataFrame index.\n",
      "  \"\"\"Entry point for launching an IPython kernel.\n",
      "C:\\Users\\HP\\Anaconda3\\lib\\site-packages\\ipykernel_launcher.py:2: UserWarning: Boolean Series key will be reindexed to match DataFrame index.\n",
      "  \n"
     ]
    }
   ],
   "source": [
    "exposed = data[data['clicked'] == 1][data['experiment'] == 'exposed']\n",
    "control = data[data['clicked'] == 1][data['experiment'] == 'control']"
   ]
  },
  {
   "cell_type": "code",
   "execution_count": 20,
   "metadata": {},
   "outputs": [
    {
     "data": {
      "text/html": [
       "<div>\n",
       "<style scoped>\n",
       "    .dataframe tbody tr th:only-of-type {\n",
       "        vertical-align: middle;\n",
       "    }\n",
       "\n",
       "    .dataframe tbody tr th {\n",
       "        vertical-align: top;\n",
       "    }\n",
       "\n",
       "    .dataframe thead th {\n",
       "        text-align: right;\n",
       "    }\n",
       "</style>\n",
       "<table border=\"1\" class=\"dataframe\">\n",
       "  <thead>\n",
       "    <tr style=\"text-align: right;\">\n",
       "      <th></th>\n",
       "      <th>auction_id</th>\n",
       "      <th>experiment</th>\n",
       "      <th>date</th>\n",
       "      <th>hour</th>\n",
       "      <th>device_make</th>\n",
       "      <th>platform_os</th>\n",
       "      <th>browser</th>\n",
       "      <th>yes</th>\n",
       "      <th>no</th>\n",
       "      <th>clicked</th>\n",
       "    </tr>\n",
       "  </thead>\n",
       "  <tbody>\n",
       "    <tr>\n",
       "      <th>6075</th>\n",
       "      <td>c0d68612-6d17-4522-aeac-afb99a656c3b</td>\n",
       "      <td>exposed</td>\n",
       "      <td>2020-07-08</td>\n",
       "      <td>20</td>\n",
       "      <td>Generic Smartphone</td>\n",
       "      <td>6</td>\n",
       "      <td>Chrome Mobile</td>\n",
       "      <td>1</td>\n",
       "      <td>0</td>\n",
       "      <td>1</td>\n",
       "    </tr>\n",
       "    <tr>\n",
       "      <th>1862</th>\n",
       "      <td>3d8f2180-0787-40a7-9566-62d16f672882</td>\n",
       "      <td>exposed</td>\n",
       "      <td>2020-07-09</td>\n",
       "      <td>4</td>\n",
       "      <td>Samsung SM-G975F</td>\n",
       "      <td>6</td>\n",
       "      <td>Chrome Mobile WebView</td>\n",
       "      <td>0</td>\n",
       "      <td>1</td>\n",
       "      <td>1</td>\n",
       "    </tr>\n",
       "    <tr>\n",
       "      <th>5143</th>\n",
       "      <td>a3af7c56-caf7-4ee0-bdfd-d5514dd03fbb</td>\n",
       "      <td>exposed</td>\n",
       "      <td>2020-07-08</td>\n",
       "      <td>18</td>\n",
       "      <td>Samsung SM-G950F</td>\n",
       "      <td>6</td>\n",
       "      <td>Chrome Mobile WebView</td>\n",
       "      <td>1</td>\n",
       "      <td>0</td>\n",
       "      <td>1</td>\n",
       "    </tr>\n",
       "    <tr>\n",
       "      <th>3730</th>\n",
       "      <td>78334283-17e0-4221-b93b-18d65beffe9b</td>\n",
       "      <td>exposed</td>\n",
       "      <td>2020-07-03</td>\n",
       "      <td>13</td>\n",
       "      <td>Generic Smartphone</td>\n",
       "      <td>6</td>\n",
       "      <td>Chrome Mobile</td>\n",
       "      <td>1</td>\n",
       "      <td>0</td>\n",
       "      <td>1</td>\n",
       "    </tr>\n",
       "    <tr>\n",
       "      <th>3734</th>\n",
       "      <td>78482867-0973-4aac-934d-d01454044dff</td>\n",
       "      <td>exposed</td>\n",
       "      <td>2020-07-04</td>\n",
       "      <td>15</td>\n",
       "      <td>Generic Smartphone</td>\n",
       "      <td>6</td>\n",
       "      <td>Chrome Mobile</td>\n",
       "      <td>0</td>\n",
       "      <td>1</td>\n",
       "      <td>1</td>\n",
       "    </tr>\n",
       "  </tbody>\n",
       "</table>\n",
       "</div>"
      ],
      "text/plain": [
       "                                auction_id experiment        date  hour  \\\n",
       "6075  c0d68612-6d17-4522-aeac-afb99a656c3b    exposed  2020-07-08    20   \n",
       "1862  3d8f2180-0787-40a7-9566-62d16f672882    exposed  2020-07-09     4   \n",
       "5143  a3af7c56-caf7-4ee0-bdfd-d5514dd03fbb    exposed  2020-07-08    18   \n",
       "3730  78334283-17e0-4221-b93b-18d65beffe9b    exposed  2020-07-03    13   \n",
       "3734  78482867-0973-4aac-934d-d01454044dff    exposed  2020-07-04    15   \n",
       "\n",
       "             device_make  platform_os                browser  yes  no  clicked  \n",
       "6075  Generic Smartphone            6          Chrome Mobile    1   0        1  \n",
       "1862    Samsung SM-G975F            6  Chrome Mobile WebView    0   1        1  \n",
       "5143    Samsung SM-G950F            6  Chrome Mobile WebView    1   0        1  \n",
       "3730  Generic Smartphone            6          Chrome Mobile    1   0        1  \n",
       "3734  Generic Smartphone            6          Chrome Mobile    0   1        1  "
      ]
     },
     "execution_count": 20,
     "metadata": {},
     "output_type": "execute_result"
    }
   ],
   "source": [
    "exposed.sample(5)"
   ]
  },
  {
   "cell_type": "code",
   "execution_count": 24,
   "metadata": {},
   "outputs": [
    {
     "data": {
      "text/html": [
       "<div>\n",
       "<style scoped>\n",
       "    .dataframe tbody tr th:only-of-type {\n",
       "        vertical-align: middle;\n",
       "    }\n",
       "\n",
       "    .dataframe tbody tr th {\n",
       "        vertical-align: top;\n",
       "    }\n",
       "\n",
       "    .dataframe thead th {\n",
       "        text-align: right;\n",
       "    }\n",
       "</style>\n",
       "<table border=\"1\" class=\"dataframe\">\n",
       "  <thead>\n",
       "    <tr style=\"text-align: right;\">\n",
       "      <th></th>\n",
       "      <th>auction_id</th>\n",
       "      <th>experiment</th>\n",
       "      <th>date</th>\n",
       "      <th>hour</th>\n",
       "      <th>device_make</th>\n",
       "      <th>platform_os</th>\n",
       "      <th>browser</th>\n",
       "      <th>yes</th>\n",
       "      <th>no</th>\n",
       "      <th>clicked</th>\n",
       "    </tr>\n",
       "  </thead>\n",
       "  <tbody>\n",
       "    <tr>\n",
       "      <th>3145</th>\n",
       "      <td>65bdd9fd-60f5-4240-b6b0-fe48e46831a3</td>\n",
       "      <td>control</td>\n",
       "      <td>2020-07-09</td>\n",
       "      <td>13</td>\n",
       "      <td>Samsung SM-G960F</td>\n",
       "      <td>6</td>\n",
       "      <td>Facebook</td>\n",
       "      <td>0</td>\n",
       "      <td>1</td>\n",
       "      <td>1</td>\n",
       "    </tr>\n",
       "    <tr>\n",
       "      <th>6088</th>\n",
       "      <td>c164494f-54fb-4e8f-b421-fc6b75fb783f</td>\n",
       "      <td>control</td>\n",
       "      <td>2020-07-04</td>\n",
       "      <td>10</td>\n",
       "      <td>DLI-L22</td>\n",
       "      <td>6</td>\n",
       "      <td>Facebook</td>\n",
       "      <td>0</td>\n",
       "      <td>1</td>\n",
       "      <td>1</td>\n",
       "    </tr>\n",
       "    <tr>\n",
       "      <th>8010</th>\n",
       "      <td>fd53005c-f3f1-4f7d-97cc-84fab926bcaa</td>\n",
       "      <td>control</td>\n",
       "      <td>2020-07-04</td>\n",
       "      <td>4</td>\n",
       "      <td>Generic Smartphone</td>\n",
       "      <td>6</td>\n",
       "      <td>Chrome Mobile</td>\n",
       "      <td>0</td>\n",
       "      <td>1</td>\n",
       "      <td>1</td>\n",
       "    </tr>\n",
       "    <tr>\n",
       "      <th>5176</th>\n",
       "      <td>a47fb994-f66d-4f6f-9d5e-1dc967ff24bf</td>\n",
       "      <td>control</td>\n",
       "      <td>2020-07-03</td>\n",
       "      <td>15</td>\n",
       "      <td>Generic Smartphone</td>\n",
       "      <td>6</td>\n",
       "      <td>Chrome Mobile</td>\n",
       "      <td>1</td>\n",
       "      <td>0</td>\n",
       "      <td>1</td>\n",
       "    </tr>\n",
       "    <tr>\n",
       "      <th>1591</th>\n",
       "      <td>34abde6e-7d4c-46e5-9060-7226a5b4ff2a</td>\n",
       "      <td>control</td>\n",
       "      <td>2020-07-03</td>\n",
       "      <td>15</td>\n",
       "      <td>Samsung SM-A705FN</td>\n",
       "      <td>6</td>\n",
       "      <td>Facebook</td>\n",
       "      <td>1</td>\n",
       "      <td>0</td>\n",
       "      <td>1</td>\n",
       "    </tr>\n",
       "  </tbody>\n",
       "</table>\n",
       "</div>"
      ],
      "text/plain": [
       "                                auction_id experiment        date  hour  \\\n",
       "3145  65bdd9fd-60f5-4240-b6b0-fe48e46831a3    control  2020-07-09    13   \n",
       "6088  c164494f-54fb-4e8f-b421-fc6b75fb783f    control  2020-07-04    10   \n",
       "8010  fd53005c-f3f1-4f7d-97cc-84fab926bcaa    control  2020-07-04     4   \n",
       "5176  a47fb994-f66d-4f6f-9d5e-1dc967ff24bf    control  2020-07-03    15   \n",
       "1591  34abde6e-7d4c-46e5-9060-7226a5b4ff2a    control  2020-07-03    15   \n",
       "\n",
       "             device_make  platform_os        browser  yes  no  clicked  \n",
       "3145    Samsung SM-G960F            6       Facebook    0   1        1  \n",
       "6088             DLI-L22            6       Facebook    0   1        1  \n",
       "8010  Generic Smartphone            6  Chrome Mobile    0   1        1  \n",
       "5176  Generic Smartphone            6  Chrome Mobile    1   0        1  \n",
       "1591   Samsung SM-A705FN            6       Facebook    1   0        1  "
      ]
     },
     "execution_count": 24,
     "metadata": {},
     "output_type": "execute_result"
    }
   ],
   "source": [
    "control.sample(5)"
   ]
  },
  {
   "cell_type": "code",
   "execution_count": 26,
   "metadata": {},
   "outputs": [
    {
     "data": {
      "text/plain": [
       "(657, 586)"
      ]
     },
     "execution_count": 26,
     "metadata": {},
     "output_type": "execute_result"
    }
   ],
   "source": [
    "len(exposed),len(control)"
   ]
  },
  {
   "cell_type": "markdown",
   "metadata": {},
   "source": [
    "## Testing"
   ]
  },
  {
   "cell_type": "code",
   "execution_count": 160,
   "metadata": {},
   "outputs": [],
   "source": [
    "\n",
    "class ClassicalTest:\n",
    "    def __init__(self, exposed, control, sample_size):\n",
    "        self.exposed = np.array(exposed.sample(sample_size)['yes'])\n",
    "        self.control = np.array(control.sample(sample_size)['yes'])\n",
    "        self.sample_size = sample_size\n",
    "        \n",
    "    def z_value(self):\n",
    "        e_mean = np.mean(self.exposed)\n",
    "        c_mean = np.mean(self.control)\n",
    "        #print(\"exposed mean:\", e_mean, \"control mean:\", c_mean)\n",
    "        z = (e_mean - c_mean)/(c_mean*(1-c_mean)/self.sample_size)**0.5\n",
    "        return z\n"
   ]
  },
  {
   "cell_type": "code",
   "execution_count": 161,
   "metadata": {},
   "outputs": [
    {
     "name": "stdout",
     "output_type": "stream",
     "text": [
      "z-value: 1.2849602186368132\n",
      "p-value: 0.09940309292844818\n"
     ]
    }
   ],
   "source": [
    "test = ClassicalTest(exposed,control, 550)\n",
    "print(\"z-value:\", test.z_value())\n",
    "print(\"p-value:\", scipy.stats.norm.sf(test.z_value()))"
   ]
  },
  {
   "cell_type": "markdown",
   "metadata": {},
   "source": [
    "### Conclusion"
   ]
  },
  {
   "cell_type": "markdown",
   "metadata": {},
   "source": [
    "#### since the p value is greater than 0.05, there is no statistically significant difference between two test groups"
   ]
  },
  {
   "cell_type": "markdown",
   "metadata": {},
   "source": [
    "# Sequential Testing"
   ]
  },
  {
   "cell_type": "markdown",
   "metadata": {
    "id": "4NLjmQlWro5d"
   },
   "source": [
    "Double click the following cell to get sample conditional SPRT code"
   ]
  },
  {
   "cell_type": "markdown",
   "metadata": {
    "id": "cbQRjxyDjUt9"
   },
   "source": [
    "##### Use the next class structure to complete your sequential testing"
   ]
  },
  {
   "cell_type": "code",
   "execution_count": 219,
   "metadata": {
    "id": "Dj_QuUA_Z-gV"
   },
   "outputs": [],
   "source": [
    "## your code here. include other necessary functions as you want.\n",
    "import random\n",
    "class SequentialTest:\n",
    "    def __init__(self,exposed,control,sample_size):\n",
    "        self.exposed = exposed\n",
    "        self.control = control\n",
    "        self.sample_size = sample_size\n",
    "        \n",
    "        '''\n",
    "        initialise startup variables\n",
    "        '''\n",
    "\n",
    "    def stoppingRule(self, T, C):\n",
    "        '''\n",
    "        This function should take current observation and return statistical decision made. \n",
    "        Consider truncate rule for longer tests\n",
    "        '''\n",
    "        if T - C > 2*(self.sample_size)**0.5 :\n",
    "            return (1, \"Exposed group produced a statistically significant increase.\")\n",
    "        elif T + C > self.sample_size:\n",
    "            return (2, \"Their is no statistically significant difference between two test groups\")\n",
    "        else: return (0, 'more samples needed')\n",
    "    \n",
    "    def perform_test(self):\n",
    "        random.shuffle(self.exposed)\n",
    "        random.shuffle(self.control)\n",
    "        self.T, self.C = 0, 0\n",
    "        for i in range(self.sample_size):\n",
    "            self.T += self.exposed[i]\n",
    "            self.C += self.control[i]\n",
    "            j, message = self.stoppingRule(self.T, self.C)\n",
    "            if j == 1 or j == 2:\n",
    "                return message\n",
    "        return 'sample size too small'\n",
    "        \n",
    "    def computeBoundaries(self,):\n",
    "        '''\n",
    "        This function shoud compute boundaries \n",
    "        '''\n",
    "\n",
    "    def plotTest(self,):\n",
    "        '''\n",
    "        showing the cumulative statistical test (e.g., log probability ratio) and the uper and lower limits.\n",
    "        '''\n",
    "\n",
    "    def plotBoundaries(self,):\n",
    "        '''cumulative sums of exposed successes, bounded by the critical limits.\n",
    "        '''\n",
    "\n"
   ]
  },
  {
   "cell_type": "code",
   "execution_count": 234,
   "metadata": {
    "id": "F0qmKWVHq7aU"
   },
   "outputs": [],
   "source": [
    "def transform_data(df, sample_size):\n",
    "    '''\n",
    "    segment data into exposed and control groups\n",
    "    consider that SmartAd runs the experment hourly, group data into hours. \n",
    "      Hint: create new column to hold date+hour and use df.column.map(lambda x:  pd.Timestamp(x,tz=None).strftime('%Y-%m-%d:%H'))\n",
    "    create two dataframes with bernouli series 1 for posetive(yes) and 0 for negative(no)\n",
    "    Hint: Given engagement(sum of yes and no until current observation as an array) and success (yes countas an array), \n",
    "    the method generates random binomial distribution\n",
    "        #Example\n",
    "           engagement = np.array([5, 3, 3])\n",
    "           yes = np.array([2, 0, 3])       \n",
    "         Output is \"[1] 1 0 1 0 0 0 0 0 1 1 1\", showing a binary array of 5+3+3 values\n",
    "         of which 2 of the first 5 are ones, 0 of the next 3 are ones, and all 3 of\n",
    "         the last 3 are ones where position the ones is randomly distributed within each group.\n",
    "    '''\n",
    "    exposed = df[df['clicked'] == 1][df['experiment'] == 'exposed']\n",
    "    control = df[df['clicked'] == 1][df['experiment'] == 'control']\n",
    "    exposed = np.array(exposed.sample(sample_size)['yes'])\n",
    "    control = np.array(control.sample(sample_size)['yes'])\n",
    "    return exposed,control\n",
    "\n",
    "def plotDataSummary(exposed, control):\n",
    "    fig, axs = plt.subplots(1,2,figsize=(16,4))\n",
    "    fig.suptitle('Yes-no distribution per group')\n",
    "    sns.countplot(x = 'yes', data=pd.DataFrame({'yes' : exposed}),ax=axs[0]).set_title('Exposed Group')\n",
    "    sns.countplot(x = 'yes', data=pd.DataFrame({'yes' : control}),ax=axs[1]).set_title('Control Group')\n",
    "    \n",
    "def pretyPrintTestResult(test):\n",
    "    '''This function print final test result. Json format is recommended. For example'''\n",
    "    message = test.perform_test()\n",
    "    res = {\n",
    "    \"name\": \"Sequential AB Testing\",\n",
    "    \"engagementCountControl\": len(test.control),\n",
    "    \"engagementCountExposed\": len(test.exposed),\n",
    "    \"positiveCountControl\": test.C,\n",
    "    \"positiveCountExposed\": test.T,\n",
    "    \"TotalObservation\": message\n",
    "    }\n",
    "    return res"
   ]
  },
  {
   "cell_type": "code",
   "execution_count": 235,
   "metadata": {
    "id": "JIOGgResa5B-",
    "scrolled": true
   },
   "outputs": [
    {
     "name": "stderr",
     "output_type": "stream",
     "text": [
      "C:\\Users\\HP\\Anaconda3\\lib\\site-packages\\ipykernel_launcher.py:16: UserWarning: Boolean Series key will be reindexed to match DataFrame index.\n",
      "  app.launch_new_instance()\n",
      "C:\\Users\\HP\\Anaconda3\\lib\\site-packages\\ipykernel_launcher.py:17: UserWarning: Boolean Series key will be reindexed to match DataFrame index.\n"
     ]
    },
    {
     "data": {
      "image/png": "[encoded data removed]",
      "text/plain": [
       "<Figure size 1152x288 with 2 Axes>"
      ]
     },
     "metadata": {
      "needs_background": "light"
     },
     "output_type": "display_data"
    }
   ],
   "source": [
    "\n",
    "######################################\n",
    "# 'Define statistical parameters such as alpha, beta, sample size if evan approach is used, odd ratio for SPRT'\n",
    "\n",
    "sample_size = 500\n",
    "\n",
    "##data processing here\n",
    "exposed, control = transform_data(data, sample_size)\n",
    "\n",
    "##plot data summary\n",
    "plotDataSummary(exposed,control)\n"
   ]
  },
  {
   "cell_type": "code",
   "execution_count": 236,
   "metadata": {},
   "outputs": [
    {
     "data": {
      "text/plain": [
       "{'name': 'Sequential AB Testing',\n",
       " 'engagementCountControl': 500,\n",
       " 'engagementCountExposed': 500,\n",
       " 'positiveCountControl': 222,\n",
       " 'positiveCountExposed': 237,\n",
       " 'TotalObservation': 'sample size too small'}"
      ]
     },
     "execution_count": 236,
     "metadata": {},
     "output_type": "execute_result"
    }
   ],
   "source": [
    "test=SequentialTest(exposed, control, sample_size)\n",
    "\n",
    "'Print test result.'\n",
    "pretyPrintTestResult(test)"
   ]
  },
  {
   "cell_type": "code",
   "execution_count": null,
   "metadata": {},
   "outputs": [],
   "source": []
  },
  {
   "cell_type": "code",
   "execution_count": null,
   "metadata": {},
   "outputs": [],
   "source": []
  }
 ],
 "metadata": {
  "colab": {
   "name": "Copy of sequential_testing.ipynb",
   "provenance": [
    {
     "file_id": "1jDpyctytmW-nDy_N8rK7N3z5DO-2-MKa",
     "timestamp": 1626644878940
    }
   ]
  },
  "kernelspec": {
   "display_name": "Python 3",
   "language": "python",
   "name": "python3"
  },
  "language_info": {
   "codemirror_mode": {
    "name": "ipython",
    "version": 3
   },
   "file_extension": ".py",
   "mimetype": "text/x-python",
   "name": "python",
   "nbconvert_exporter": "python",
   "pygments_lexer": "ipython3",
   "version": "3.7.1"
  }
 },
 "nbformat": 4,
 "nbformat_minor": 1
}
